{
  "nbformat": 4,
  "nbformat_minor": 0,
  "metadata": {
    "colab": {
      "provenance": []
    },
    "kernelspec": {
      "name": "python3",
      "display_name": "Python 3"
    },
    "language_info": {
      "name": "python"
    }
  },
  "cells": [
    {
      "cell_type": "markdown",
      "source": [
        "\n",
        "\n",
        "## 1.  Olas de calor: Valor por encima del percentil 90 mensual y anual tanto en tem_max como en tem_min por 3 dias consecutivos\n",
        "\n"
      ],
      "metadata": {
        "id": "I1euJTbBQH6n"
      }
    },
    {
      "cell_type": "code",
      "source": [
        "# imports\n",
        "import pandas as pd\n",
        "import numpy as np\n",
        "import matplotlib.pyplot as plt"
      ],
      "metadata": {
        "id": "R3tuIQkjWXVy"
      },
      "execution_count": null,
      "outputs": []
    },
    {
      "cell_type": "code",
      "source": [
        "# cargar datos y retornar 'Valor'\n",
        "def load_and_prepare_data(max_path, min_path):\n",
        "\n",
        "    df_max = pd.read_csv(max_path, parse_dates=True, index_col='Fecha')\n",
        "    df_min = pd.read_csv(min_path, parse_dates=True, index_col='Fecha')\n",
        "\n",
        "    return df_max['Valor'], df_min['Valor']"
      ],
      "metadata": {
        "id": "j4EkA8iNWcr0"
      },
      "execution_count": null,
      "outputs": []
    },
    {
      "cell_type": "code",
      "source": [
        "# calcular percentiles anuales y mensuales\n",
        "def calculate_percentiles(tem_max, tem_min, percentile=0.9):\n",
        "\n",
        "    # mensuales\n",
        "    p90_max_monthly = tem_max.groupby(tem_max.index.month).quantile(percentile)\n",
        "    p90_min_monthly = tem_min.groupby(tem_min.index.month).quantile(percentile)\n",
        "\n",
        "    # anuales\n",
        "    p90_max_annual = tem_max.quantile(percentile)\n",
        "    p90_min_annual = tem_min.quantile(percentile)\n",
        "\n",
        "    return p90_max_monthly, p90_min_monthly, p90_max_annual, p90_min_annual"
      ],
      "metadata": {
        "id": "P2YBx2jTWoKM"
      },
      "execution_count": null,
      "outputs": []
    },
    {
      "cell_type": "code",
      "source": [
        "# función para detectar olas de calor\n",
        "def detect_heatwaves(mask, tem_max, tem_min, min_duration=6):\n",
        "\n",
        "    # Máscara de booleans para ver días seguidos\n",
        "    mask_shifted = mask.ne(mask.shift())\n",
        "    groups = mask_shifted.cumsum()\n",
        "\n",
        "    # Filtrar solo secuencias True\n",
        "    true_sequences = mask[mask].groupby(groups[mask])\n",
        "\n",
        "    events = []\n",
        "    for _, group in true_sequences:\n",
        "        if len(group) >= min_duration:\n",
        "            start = group.index[0]\n",
        "            end = group.index[-1]\n",
        "\n",
        "            # Calcular temperatura promedio en cada ola\n",
        "            avg_max = tem_max.loc[start:end].mean()\n",
        "            avg_min = tem_min.loc[start:end].mean()\n",
        "\n",
        "            # Adjuntar a events con toda la info\n",
        "            events.append({\n",
        "                'inicio': start,\n",
        "                'fin': end,\n",
        "                'duracion': (end - start).days + 1,\n",
        "                'media_tem_max': avg_max,\n",
        "                'media_tem_min': avg_min\n",
        "            })\n",
        "\n",
        "    return events"
      ],
      "metadata": {
        "id": "-mHInwvmXMuD"
      },
      "execution_count": null,
      "outputs": []
    },
    {
      "cell_type": "code",
      "source": [
        "# Mostrar olas de calor formateadas\n",
        "def print_heatwaves(heatwaves, title):\n",
        "  if not heatwaves:\n",
        "    print(f\"\\n{title}: No se encontraron olas de calor.\")\n",
        "    return\n",
        "  else:\n",
        "    print(f\"\\n{title}:\")\n",
        "    for event in heatwaves:\n",
        "        print(f\"Del {event['inicio'].date()} al {event['fin'].date()} \"\n",
        "              f\"| {event['duracion']} días | \"\n",
        "              f\"Tmax: {event['media_tem_max']:.1f}°C | \"\n",
        "              f\"Tmin: {event['media_tem_min']:.1f}°C\")"
      ],
      "metadata": {
        "id": "X9DzgSPHXpAu"
      },
      "execution_count": null,
      "outputs": []
    },
    {
      "cell_type": "code",
      "source": [
        "#main\n",
        "\n",
        "def main():\n",
        "    # Cargar data\n",
        "    tem_max, tem_min = load_and_prepare_data('/content/tem_max.csv', '/content/tem_min.csv')\n",
        "\n",
        "    # Percentiles\n",
        "    p90_max_monthly, p90_min_monthly, p90_max_annual, p90_min_annual = calculate_percentiles(tem_max, tem_min)\n",
        "\n",
        "    # Crear mask días olas de calor\n",
        "    hot_days_annual = (tem_max > p90_max_annual) & (tem_min > p90_min_annual)\n",
        "\n",
        "    #Ccondición percentil mensual / operación vectorizada\n",
        "    hot_days_monthly = (\n",
        "        (tem_max > p90_max_monthly[tem_max.index.month].values) &\n",
        "        (tem_min > p90_min_monthly[tem_min.index.month].values)\n",
        "    )\n",
        "\n",
        "    # Función Detect heatwaves\n",
        "    heatwaves_annual = detect_heatwaves(hot_days_annual, tem_max, tem_min)\n",
        "    heatwaves_monthly = detect_heatwaves(hot_days_monthly, tem_max, tem_min)\n",
        "\n",
        "    # Función Print results\n",
        "    print_heatwaves(heatwaves_annual, \"Olas de calor (percentil 90 anual)\")\n",
        "    print_heatwaves(heatwaves_monthly, \"Olas de calor (percentil 90 mensual)\")\n",
        "\n",
        "    return heatwaves_annual, heatwaves_monthly\n",
        "\n",
        "if __name__ == \"__main__\":\n",
        "    df_annual, df_monthly = main()"
      ],
      "metadata": {
        "id": "Muc_f50kWGmy",
        "colab": {
          "base_uri": "https://localhost:8080/"
        },
        "outputId": "f6de80c8-577a-46e8-f275-c08c09d5ed0c"
      },
      "execution_count": null,
      "outputs": [
        {
          "output_type": "stream",
          "name": "stdout",
          "text": [
            "\n",
            "Olas de calor (percentil 90 anual):\n",
            "Del 2014-07-15 al 2014-07-21 | 7 días | Tmax: 37.7°C | Tmin: 27.2°C\n",
            "Del 2015-05-31 al 2015-06-05 | 6 días | Tmax: 38.2°C | Tmin: 27.1°C\n",
            "Del 2015-07-21 al 2015-07-26 | 6 días | Tmax: 37.2°C | Tmin: 27.1°C\n",
            "Del 2015-08-30 al 2015-09-10 | 12 días | Tmax: 38.3°C | Tmin: 28.1°C\n",
            "\n",
            "Olas de calor (percentil 90 mensual):\n",
            "Del 2015-08-30 al 2015-09-09 | 11 días | Tmax: 38.4°C | Tmin: 28.1°C\n"
          ]
        }
      ]
    },
    {
      "cell_type": "code",
      "source": [
        "#celda exclusiva para colab, borrar para jupyter\n",
        "from google.colab import drive\n",
        "drive.mount('/content/drive')"
      ],
      "metadata": {
        "id": "786gso2-vHRU",
        "colab": {
          "base_uri": "https://localhost:8080/"
        },
        "outputId": "4a4fc3ed-5e90-47a4-9584-f6314fa18efe"
      },
      "execution_count": null,
      "outputs": [
        {
          "output_type": "stream",
          "name": "stdout",
          "text": [
            "Drive already mounted at /content/drive; to attempt to forcibly remount, call drive.mount(\"/content/drive\", force_remount=True).\n"
          ]
        }
      ]
    },
    {
      "cell_type": "markdown",
      "source": [
        "## 2. Extremos de precipitacion: percentil 99 diario mensual y anual! y para todos los anhos!, quizas el pdf y el cdf pueden ser de ayuda?"
      ],
      "metadata": {
        "id": "mZwj53PMjojv"
      }
    },
    {
      "cell_type": "code",
      "source": [
        "def load_and_prepare_data(filepath):\n",
        "    df = pd.read_csv(filepath, parse_dates=['Fecha'])\n",
        "    df.set_index('Fecha', inplace=True)\n",
        "    return df"
      ],
      "metadata": {
        "id": "Ds8mpjxajv37"
      },
      "execution_count": null,
      "outputs": []
    },
    {
      "cell_type": "code",
      "source": [
        "def calculate_percentiles(precip_data):\n",
        "\n",
        "    # Percentil 99 diario\n",
        "    p99_daily = precip_data['Valor'].quantile(0.99)\n",
        "\n",
        "    # Percentil 99 mensual\n",
        "    p99_monthly = precip_data.groupby(precip_data.index.month)['Valor'].quantile(0.99)\n",
        "\n",
        "    # Percentil 99 anual\n",
        "    p99_annual = precip_data.groupby(precip_data.index.year)['Valor'].quantile(0.99)\n",
        "\n",
        "    return p99_daily, p99_monthly, p99_annual"
      ],
      "metadata": {
        "id": "Szbjswrdj0Io"
      },
      "execution_count": null,
      "outputs": []
    },
    {
      "cell_type": "code",
      "source": [
        "def analyze_exceedances(precip_data, p99_daily, p99_monthly, p99_annual):\n",
        "\n",
        "    results = {}\n",
        "\n",
        "    # Percentil 99 diario\n",
        "    daily_exceed = precip_data[precip_data['Valor'] > p99_daily]\n",
        "    years_daily_exceed = daily_exceed.index.year.unique()\n",
        "    results['daily_99_exceed'] = sorted(years_daily_exceed)\n",
        "\n",
        "    # Percentil 99 mensual\n",
        "    monthly_exceed = precip_data.groupby([precip_data.index.year, precip_data.index.month]).apply(\n",
        "        lambda x: x['Valor'].max() > p99_monthly[x.name[1]]\n",
        "    )\n",
        "    years_monthly_exceed = monthly_exceed[monthly_exceed].index.get_level_values(0).unique()\n",
        "    results['monthly_99_exceed'] = sorted(years_monthly_exceed)\n",
        "\n",
        "    # Percentil 99 anual\n",
        "    annual_exceed = precip_data.groupby(precip_data.index.year).apply(\n",
        "        lambda x: x['Valor'].max() > p99_annual[x.name]\n",
        "    )\n",
        "    years_annual_exceed = annual_exceed[annual_exceed].index\n",
        "    results['annual_99_exceed'] = sorted(years_annual_exceed)\n",
        "\n",
        "    return results"
      ],
      "metadata": {
        "id": "LUZFog7SkFWg"
      },
      "execution_count": null,
      "outputs": []
    },
    {
      "cell_type": "code",
      "source": [
        "def main():\n",
        "    # Cargar datos\n",
        "    precip_data = load_and_prepare_data('precipitacion.csv')\n",
        "\n",
        "    # Calcular percentiles\n",
        "    p99_daily, p99_monthly, p99_annual = calculate_percentiles(precip_data)\n",
        "\n",
        "    print(f\"Percentil 99 diario: {p99_daily:.2f} mm\")\n",
        "    print(\"\\nPercentil 99 mensual:\")\n",
        "    print(p99_monthly)\n",
        "    print(\"\\nPercentil 99 anual:\")\n",
        "    print(p99_annual)\n",
        "\n",
        "    # Analizar exceso\n",
        "    results = analyze_exceedances(precip_data, p99_daily, p99_monthly, p99_annual)\n",
        "\n",
        "    print(\"\\nAños sobre percentil diario:\")\n",
        "    print(results['daily_99_exceed'])\n",
        "\n",
        "    print(\"\\nAños sobre percentil mensual:\")\n",
        "    print(results['monthly_99_exceed'])\n",
        "\n",
        "    print(\"\\nYAños sobre percentil anual:\")\n",
        "    print(results['annual_99_exceed'])\n",
        "    return results\n",
        "\n",
        "    # Histograma\n",
        "    precip = precip_data['Valor']\n",
        "    precip = precip.dropna()\n",
        "    plt.hist(precip, bins=50, density='true', edgecolor='black')\n",
        "    plt.yscale('log')\n",
        "    plt.xlabel('Precipitación (mm)')\n",
        "    plt.ylabel('Frecuencia')\n",
        "    plt.title('Histograma de Precipitación')\n",
        "    plt.show()\n",
        "\n",
        "\n",
        "if __name__ == \"__main__\":\n",
        "    analysis_results = main()"
      ],
      "metadata": {
        "colab": {
          "base_uri": "https://localhost:8080/"
        },
        "id": "JdyLVdGdjqJg",
        "outputId": "78f5fa37-29ac-4e42-940a-fe28d61f8ce4"
      },
      "execution_count": null,
      "outputs": [
        {
          "output_type": "stream",
          "name": "stdout",
          "text": [
            "Percentil 99 diario: 52.80 mm\n",
            "\n",
            "Percentil 99 mensual:\n",
            "Fecha\n",
            "1     10.516\n",
            "2      5.005\n",
            "3      9.395\n",
            "4     45.800\n",
            "5     55.412\n",
            "6     33.270\n",
            "7     46.230\n",
            "8     58.208\n",
            "9     66.775\n",
            "10    63.410\n",
            "11    86.612\n",
            "12    43.064\n",
            "Name: Valor, dtype: float64\n",
            "\n",
            "Percentil 99 anual:\n",
            "Fecha\n",
            "1988    62.247\n",
            "1989    79.694\n",
            "1990    41.436\n",
            "1991    26.204\n",
            "1992    16.748\n",
            "1993    43.800\n",
            "1994    47.784\n",
            "1995    38.573\n",
            "1996    48.586\n",
            "1997    36.169\n",
            "1998    43.280\n",
            "1999    53.584\n",
            "2000    46.235\n",
            "2001    41.000\n",
            "2002    50.718\n",
            "2003    46.170\n",
            "2004    55.530\n",
            "2005    58.000\n",
            "2006    72.512\n",
            "2007    63.236\n",
            "2008    69.875\n",
            "2009    27.830\n",
            "2010    65.306\n",
            "2011    72.460\n",
            "2012    43.836\n",
            "2013    33.884\n",
            "2014    39.500\n",
            "2015    26.820\n",
            "2016    51.270\n",
            "2017    67.568\n",
            "2018    49.024\n",
            "2019    30.981\n",
            "2020    33.510\n",
            "2021    42.052\n",
            "2022    64.468\n",
            "2023    48.929\n",
            "2024    49.360\n",
            "2025     7.725\n",
            "Name: Valor, dtype: float64\n",
            "\n",
            "Años sobre percentil diario:\n",
            "[1988, 1989, 1990, 1991, 1992, 1993, 1994, 1995, 1996, 1997, 1998, 1999, 2000, 2001, 2002, 2003, 2004, 2005, 2006, 2007, 2008, 2010, 2011, 2012, 2013, 2014, 2015, 2016, 2017, 2018, 2019, 2020, 2021, 2022, 2023, 2024]\n",
            "\n",
            "Años sobre percentil mensual:\n",
            "[1988, 1989, 1990, 1991, 1992, 1993, 1994, 1995, 1997, 1998, 1999, 2000, 2002, 2003, 2004, 2005, 2006, 2007, 2008, 2009, 2010, 2011, 2012, 2013, 2015, 2016, 2017, 2018, 2019, 2020, 2021, 2022, 2023, 2024]\n",
            "\n",
            "YAños sobre percentil anual:\n",
            "[1988, 1989, 1990, 1991, 1992, 1993, 1994, 1995, 1996, 1997, 1998, 1999, 2000, 2001, 2002, 2003, 2004, 2005, 2006, 2007, 2008, 2009, 2010, 2011, 2012, 2013, 2014, 2015, 2016, 2017, 2018, 2019, 2020, 2021, 2022, 2023, 2024, 2025]\n"
          ]
        }
      ]
    },
    {
      "cell_type": "code",
      "source": [
        "# Histograma\n",
        "precip_data = load_and_prepare_data('precipitacion.csv')\n",
        "# Histograma\n",
        "precip = precip_data['Valor']\n",
        "precip = precip.dropna()\n",
        "plt.hist(precip, bins=50, density='true', edgecolor='black')\n",
        "plt.yscale('log')\n",
        "plt.xlabel('Precipitación (mm)')\n",
        "plt.ylabel('Frecuencia')\n",
        "plt.title('Histograma de Precipitación')\n",
        "plt.show()\n",
        "\n",
        "#histograma por estaciones\n",
        "\n",
        "def month_to_season(month):\n",
        "    if month in [12, 1, 2]:\n",
        "        return 'DJF'\n",
        "    elif month in [3, 4, 5]:\n",
        "        return 'MAM'\n",
        "    elif month in [6, 7, 8]:\n",
        "        return 'JJA'\n",
        "    elif month in [9, 10, 11]:\n",
        "        return 'SON'\n",
        "\n",
        "seasons = precip.index.month.map(month_to_season)\n",
        "\n",
        "# Agrupar y calcular promedio\n",
        "seasonal_mean = precip.groupby(seasons).mean()\n",
        "seasonal_mean = seasonal_mean.loc[['DJF', 'MAM', 'JJA', 'SON']]\n",
        "\n",
        "plt.figure(figsize=(10, 6))\n",
        "plt.hist()\n",
        "plt.bar(seasonal_mean.index, seasonal_mean.values)\n",
        "plt.xlabel('Estación del año')\n",
        "plt.ylabel('Precipitación promedio (mm)')"
      ],
      "metadata": {
        "colab": {
          "base_uri": "https://localhost:8080/",
          "height": 905
        },
        "id": "XazAjRSNs0Hn",
        "outputId": "3d4b4330-21b9-4a07-9332-c8ba0829cb2b"
      },
      "execution_count": null,
      "outputs": [
        {
          "output_type": "display_data",
          "data": {
            "text/plain": [
              "<Figure size 640x480 with 1 Axes>"
            ],
            "image/png": "[encoded data removed]"
          },
          "metadata": {}
        },
        {
          "output_type": "display_data",
          "data": {
            "text/plain": [
              "<Figure size 640x480 with 1 Axes>"
            ],
            "image/png": "[encoded data removed]"
          },
          "metadata": {}
        }
      ]
    },
    {
      "cell_type": "code",
      "source": [],
      "metadata": {
        "id": "XOt2L8kGs1UQ"
      },
      "execution_count": null,
      "outputs": []
    }
  ]
}